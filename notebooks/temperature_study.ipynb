{
 "cells": [
  {
   "cell_type": "markdown",
   "metadata": {},
   "source": [
    "# SiPM Temperature Dependence Study\n",
    "\n",
    "From (1):\n",
    "$V_{BIAS} = V_{BD,0} \\cdot ( 1 + \\beta \\cdot (T-T_0) ),~\\beta \\equiv \\frac{dV_{BD}}{dT}$\n",
    "\n",
    "Take measurements at a constant bias with varied temperature\n",
    "$$\\alpha \\equiv \\left[ \\frac{dQ_{SPE}}{dT} \\right]_{V_{BD,0}}$$\n",
    "\n",
    "Take measurements at a constant temperature with varied bias\n",
    "$$\\kappa \\equiv \\left[ \\frac{dQ_{SPE}}{dV_{BD}} \\right]_{T_0}$$\n",
    "\n",
    "Then we can find?\n",
    "$$\\beta = \\frac{\\alpha}{\\kappa}?$$\n",
    "\n",
    "\n",
    "\n",
    "## References\n",
    " - (1) https://hub.hamamatsu.com/us/en/technical-notes/mppc-sipms/how-does-temperature-affect-the-gain-of-an-SiPM.html\n",
    "\n"
   ]
  },
  {
   "cell_type": "code",
   "execution_count": null,
   "metadata": {},
   "outputs": [],
   "source": []
  }
 ],
 "metadata": {
  "language_info": {
   "name": "python"
  }
 },
 "nbformat": 4,
 "nbformat_minor": 2
}
