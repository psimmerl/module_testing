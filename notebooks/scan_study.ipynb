{
 "cells": [
  {
   "cell_type": "code",
   "execution_count": 10,
   "id": "dc92ea90-3ad0-4096-97a0-36c00eb44c6e",
   "metadata": {},
   "outputs": [
    {
     "name": "stdout",
     "output_type": "stream",
     "text": [
      "Loaded 176 OV/TT combinations\n"
     ]
    }
   ],
   "source": [
    "import os\n",
    "\n",
    "import numpy as np\n",
    "import matplotlib as mpl\n",
    "import matplotlib.pyplot as plt\n",
    "\n",
    "import ROOT as rt\n",
    "from ROOT import RDataFrame\n",
    "from ROOT import (TCanvas, TLatex, TLegend, TH1D, TH2D, TGraph, TGraphErrors)\n",
    "\n",
    "GC = []\n",
    "\n",
    "################################\n",
    "################################\n",
    "\n",
    "DATA_PATH = '/home/cptlab/qaqc-gui_output/scan2'\n",
    "fns = os.listdir(DATA_PATH)\n",
    "scan_dict = []\n",
    "\n",
    "for fn in fns:\n",
    "    if '_RDF.root' not in fn:\n",
    "        continue\n",
    "\n",
    "    fn_split = fn.rstrip('.root').split('_')\n",
    "    scan_dict.append({\n",
    "        'rdf_spe1' : RDataFrame('spe_TriggerGroup1', f'{DATA_PATH}/{fn}'),\n",
    "        'rdf_spe2' : RDataFrame('spe_TriggerGroup2', f'{DATA_PATH}/{fn}'),\n",
    "        'rdf_spe3' : RDataFrame('spe_TriggerGroup3', f'{DATA_PATH}/{fn}'),\n",
    "        'rdf_spe4' : RDataFrame('spe_TriggerGroup4', f'{DATA_PATH}/{fn}'),\n",
    "        'rdf_src1' : RDataFrame('sodium_TriggerGroup1', f'{DATA_PATH}/{fn}'),\n",
    "        'rdf_src2' : RDataFrame('sodium_TriggerGroup2', f'{DATA_PATH}/{fn}'),\n",
    "        'rdf_src3' : RDataFrame('sodium_TriggerGroup3', f'{DATA_PATH}/{fn}'),\n",
    "        'rdf_src4' : RDataFrame('sodium_TriggerGroup4', f'{DATA_PATH}/{fn}'),\n",
    "        'ov' : float(fn_split[2][3:]),\n",
    "        'tt' : -1*float(fn_split[3][3:]),\n",
    "        'nspe' : int(fn_split[4][4:]),\n",
    "        'nsrc' : int(fn_split[5][7:]),\n",
    "    })\n",
    "\n",
    "print(f'Loaded {len(scan_dict):,} OV/TT combinations')\n"
   ]
  },
  {
   "cell_type": "code",
   "execution_count": 13,
   "id": "9779b33a-db38-4997-bb3f-cebe7f5e10ba",
   "metadata": {},
   "outputs": [],
   "source": [
    "def create_tgraph(x, y, title=None, xl=None, yl=None, **kwargs):\n",
    "    global GC\n",
    "\n",
    "    # Set correct dtype and check shapes\n",
    "    x, y = np.asarray(x)*1., np.asarray(y)*1.\n",
    "    assert x.shape == y.shape\n",
    "\n",
    "    xe = kwargs['xe'] if 'xe' in kwargs else x*0\n",
    "    ye = kwargs['ye'] if 'ye' in kwargs else y*0\n",
    "    xe, ye = np.asarray(xe)*1., np.asarray(ye)*1.\n",
    "    assert (x.shape == xe.shape) and (y.shape == ye.shape)\n",
    "    assert (xe.shape == ye.shape)\n",
    "\n",
    "    # TGraph Draw Options\n",
    "    kw = {\n",
    "        'alpha' : XXX,\n",
    "        'c' : rt.kBlack,\n",
    "        #\n",
    "        'ls' : rt.kSolid,\n",
    "        'lw' : 2,\n",
    "        #\n",
    "        'ms' : None, # None, o, O, x, X, +, ++\n",
    "        'mw' : None,\n",
    "        'mc' : None,\n",
    "        #\n",
    "        'es' : None,\n",
    "        'ew' : None,\n",
    "        'ef' : None, # use float for fill alpha\n",
    "        \n",
    "    } | kwargs\n",
    "\n",
    "    gr = TGraph(len(x), x, y, xe, ye)\n",
    "    return gr"
   ]
  },
  {
   "cell_type": "code",
   "execution_count": 12,
   "id": "3a118f97-37eb-4820-b00a-5ddcbae55bdc",
   "metadata": {},
   "outputs": [
    {
     "data": {
      "text/plain": [
       "<matplotlib.collections.PathCollection at 0x7f4a1efe4a50>"
      ]
     },
     "execution_count": 12,
     "metadata": {},
     "output_type": "execute_result"
    },
    {
     "data": {
      "image/png": "[encoded data removed]",
      "text/plain": [
       "<Figure size 640x480 with 1 Axes>"
      ]
     },
     "metadata": {},
     "output_type": "display_data"
    }
   ],
   "source": [
    "ov_tt = np.array([[s['ov'], s['tt']] for s in scan_dict])\n",
    "\n",
    "plt.scatter(ov_tt[:,0], ov_tt[:,1])"
   ]
  }
 ],
 "metadata": {
  "kernelspec": {
   "display_name": "Python 3 (ipykernel)",
   "language": "python",
   "name": "python3"
  },
  "language_info": {
   "codemirror_mode": {
    "name": "ipython",
    "version": 3
   },
   "file_extension": ".py",
   "mimetype": "text/x-python",
   "name": "python",
   "nbconvert_exporter": "python",
   "pygments_lexer": "ipython3",
   "version": "3.11.6"
  }
 },
 "nbformat": 4,
 "nbformat_minor": 5
}
